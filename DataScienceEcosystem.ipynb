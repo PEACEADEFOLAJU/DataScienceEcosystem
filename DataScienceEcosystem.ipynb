{
 "cells": [
  {
   "cell_type": "markdown",
   "id": "6bfa33ad-5fb6-4d7b-9da6-3dd341ac07fc",
   "metadata": {},
   "source": [
    "**Exercise 1: Create a Jupyter Notebook**"
   ]
  },
  {
   "cell_type": "markdown",
   "id": "3881eff4-7940-4c1a-897b-975ebc5464cd",
   "metadata": {},
   "source": [
    "**Exercise 2: Create markdown cell with title of the notebook.**\r\n",
    "_Create a markdown cell with the title Data Science Tools and Ecosystem using H1 style heading._\n",
    "\r\n"
   ]
  },
  {
   "cell_type": "markdown",
   "id": "b052512f-e9a6-48bc-a6c4-65b3e261f201",
   "metadata": {},
   "source": [
    "# Data Science Tools and Ecosystem"
   ]
  },
  {
   "cell_type": "markdown",
   "id": "3e5d85ac-141e-4a5b-a7bd-5107fe3452ea",
   "metadata": {},
   "source": [
    "**Exercise 3 - Create a markdown cell for an introduction.** _Write an introductory sentence about the notebook_"
   ]
  },
  {
   "cell_type": "markdown",
   "id": "560c14a7-0d37-4eb4-afd4-c286fedbd2a0",
   "metadata": {},
   "source": [
    "In this notebook, Data Science Tools and Ecosystem are summarized."
   ]
  },
  {
   "cell_type": "markdown",
   "id": "43a5d7a3-5563-4079-b5d0-81685c30f123",
   "metadata": {},
   "source": [
    "**Exercise 10 - Insert a markdown cell to list Objectives**"
   ]
  },
  {
   "cell_type": "markdown",
   "id": "36b487d3-c7ef-4d2c-9de6-73c000d9d2f2",
   "metadata": {},
   "source": [
    "**Objectives:**\n",
    "+ Create a Jupyter Notebook\n",
    "+ Insert Code and Markdown cells\n",
    "+ List Data Science Languages\n",
    "+ List Data Science Libraries\n",
    "+ Perform Simple Arithmetic Operations"
   ]
  },
  {
   "cell_type": "markdown",
   "id": "3e78288e-4733-4d60-854f-83ae37699930",
   "metadata": {},
   "source": [
    "**Exercise 4 - Create a markdown cell to list data science languages**"
   ]
  },
  {
   "cell_type": "markdown",
   "id": "f8009987-6044-4ff7-8d11-f49b1435c2f5",
   "metadata": {},
   "source": [
    "Some of the popular languages that Data Scientists use are:"
   ]
  },
  {
   "cell_type": "markdown",
   "id": "9c6e0f51-44aa-404d-887d-821fb234c656",
   "metadata": {},
   "source": [
    "1. Python\n",
    "2. R\n",
    "3. SQL"
   ]
  },
  {
   "cell_type": "markdown",
   "id": "2b28e221-6ffc-4a9e-aef4-ec89bb30e8a7",
   "metadata": {},
   "source": [
    "**Exercise 5 - Create a markdown cell to list data science libraries**"
   ]
  },
  {
   "cell_type": "markdown",
   "id": "e839f417-f204-4d6d-ba2a-ec99d7a9153a",
   "metadata": {},
   "source": [
    "Some of the commonly used libraries used by Data Scientists include:"
   ]
  },
  {
   "cell_type": "markdown",
   "id": "41bfce9a-3554-4ba0-bd0d-9231c958cd70",
   "metadata": {},
   "source": [
    "1. Scientific Computing Libraries e.g. Pandas\n",
    "2. Visualization Libraries e.g. Matplotlib Package\n",
    "3. Machine Learning and Deep Learning Libraries e.g. Scikit Learn"
   ]
  },
  {
   "cell_type": "markdown",
   "id": "6b243848-5e9e-42ca-ad73-d19d49688745",
   "metadata": {},
   "source": [
    "**Exercise 6 - Create a markdown cell with a table of Data Science tools**"
   ]
  },
  {
   "cell_type": "markdown",
   "id": "e4cccefa-322e-4e89-9201-ccc3688f7449",
   "metadata": {},
   "source": [
    "| Data Science Tools | \n",
    "| -------------------| \n",
    "| Jupyter | \n",
    "| R Studio|\n",
    "| Spyder|"
   ]
  },
  {
   "cell_type": "markdown",
   "id": "71a0ae4c-ab52-4034-8f9f-369d33e0184f",
   "metadata": {},
   "source": [
    "**Exercise 7 - Create a markdown cell introducing arithmetic expression examples.** _Add a line in this cell with H3 style heading with text like:_"
   ]
  },
  {
   "cell_type": "markdown",
   "id": "886e768b-df82-4f0f-b2b7-2dfa6dea03e8",
   "metadata": {},
   "source": [
    "### Below are a few examples of evaluating arithmetic expressions in Python"
   ]
  },
  {
   "cell_type": "markdown",
   "id": "c01a8e00-c1d8-427c-a7ea-eb3e25da8209",
   "metadata": {},
   "source": [
    "**Exercise 8 - Create a code cell to multiply and add numbers**"
   ]
  },
  {
   "cell_type": "markdown",
   "id": "ff400c4c-6cb8-4601-9eaa-67874824a633",
   "metadata": {},
   "source": [
    "_This a simple arithmetic expression to mutiply then add integers_"
   ]
  },
  {
   "cell_type": "code",
   "execution_count": 5,
   "id": "3c9f63b6-fd4a-408d-841b-d81d64bb62ec",
   "metadata": {},
   "outputs": [
    {
     "data": {
      "text/plain": [
       "17"
      ]
     },
     "execution_count": 5,
     "metadata": {},
     "output_type": "execute_result"
    }
   ],
   "source": [
    "(3*4)+5"
   ]
  },
  {
   "cell_type": "markdown",
   "id": "a1397900-a2ed-4bf3-86e0-516c1085dc43",
   "metadata": {},
   "source": [
    "**Exercise 9 - Create a code cell to convert minutes to hours**"
   ]
  },
  {
   "cell_type": "markdown",
   "id": "383b5989-42d0-4c37-85eb-23ee97666569",
   "metadata": {},
   "source": [
    "_This will convert 200 minutes to hours by dividing by 60_"
   ]
  },
  {
   "cell_type": "code",
   "execution_count": 6,
   "id": "4d7d26b6-2187-496f-bbb1-d4f1cc06a9cb",
   "metadata": {},
   "outputs": [
    {
     "data": {
      "text/plain": [
       "3.3333333333333335"
      ]
     },
     "execution_count": 6,
     "metadata": {},
     "output_type": "execute_result"
    }
   ],
   "source": [
    "200/60"
   ]
  },
  {
   "cell_type": "markdown",
   "id": "ea412773-a55c-4afd-b7e5-72e67aeede41",
   "metadata": {},
   "source": [
    "**Exercise 11 - Create a markdown cell to indicate the Author's name**"
   ]
  },
  {
   "cell_type": "markdown",
   "id": "acb74082-e28a-4c55-b5d0-92eafbb71b94",
   "metadata": {},
   "source": [
    "## Author\n",
    "Olosunde Peace Adefolaju"
   ]
  },
  {
   "cell_type": "code",
   "execution_count": null,
   "id": "187d9b21-2a28-4b7f-9521-53c5b84ca48f",
   "metadata": {},
   "outputs": [],
   "source": []
  }
 ],
 "metadata": {
  "kernelspec": {
   "display_name": "Python 3 (ipykernel)",
   "language": "python",
   "name": "python3"
  },
  "language_info": {
   "codemirror_mode": {
    "name": "ipython",
    "version": 3
   },
   "file_extension": ".py",
   "mimetype": "text/x-python",
   "name": "python",
   "nbconvert_exporter": "python",
   "pygments_lexer": "ipython3",
   "version": "3.11.7"
  }
 },
 "nbformat": 4,
 "nbformat_minor": 5
}
